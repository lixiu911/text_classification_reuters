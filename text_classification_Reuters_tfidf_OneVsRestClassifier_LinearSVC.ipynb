{
 "cells": [
  {
   "cell_type": "code",
   "execution_count": 1,
   "metadata": {},
   "outputs": [
    {
     "name": "stdout",
     "output_type": "stream",
     "text": [
      "Populating the interactive namespace from numpy and matplotlib\n"
     ]
    }
   ],
   "source": [
    "%pylab inline\n",
    "import xml.sax.saxutils as saxutils\n",
    "import re\n",
    "import pandas as pd\n",
    "from bs4 import BeautifulSoup\n",
    "import codecs\n"
   ]
  },
  {
   "cell_type": "code",
   "execution_count": 2,
   "metadata": {},
   "outputs": [],
   "source": [
    "#General constants \n",
    "\n",
    "# Newsline folder and format\n",
    "data_folder = '/Users/xiuli/Downloads/reuters21578/' \n",
    "\n",
    "sgml_number_of_files = 22\n",
    "sgml_file_name_template = 'reut2-NNN.sgm'\n"
   ]
  },
  {
   "cell_type": "code",
   "execution_count": 3,
   "metadata": {},
   "outputs": [],
   "source": [
    "def strip_tags(text):\n",
    "    return re.sub('<[^<]+?>', '', text).strip()\n",
    "\n",
    "def unescape(text):\n",
    "    return saxutils.unescape(text)\n"
   ]
  },
  {
   "cell_type": "markdown",
   "metadata": {},
   "source": [
    "### Parse SGML files and Iterate all files to dataframe"
   ]
  },
  {
   "cell_type": "code",
   "execution_count": 4,
   "metadata": {},
   "outputs": [
    {
     "data": {
      "text/html": [
       "<div>\n",
       "<style scoped>\n",
       "    .dataframe tbody tr th:only-of-type {\n",
       "        vertical-align: middle;\n",
       "    }\n",
       "\n",
       "    .dataframe tbody tr th {\n",
       "        vertical-align: top;\n",
       "    }\n",
       "\n",
       "    .dataframe thead th {\n",
       "        text-align: right;\n",
       "    }\n",
       "</style>\n",
       "<table border=\"1\" class=\"dataframe\">\n",
       "  <thead>\n",
       "    <tr style=\"text-align: right;\">\n",
       "      <th></th>\n",
       "      <th>document_id</th>\n",
       "      <th>document_body</th>\n",
       "      <th>train_test_label</th>\n",
       "      <th>category</th>\n",
       "    </tr>\n",
       "  </thead>\n",
       "  <tbody>\n",
       "    <tr>\n",
       "      <th>0</th>\n",
       "      <td>1</td>\n",
       "      <td>showers continued throughout the week in\\nthe ...</td>\n",
       "      <td>train</td>\n",
       "      <td>[cocoa]</td>\n",
       "    </tr>\n",
       "    <tr>\n",
       "      <th>1</th>\n",
       "      <td>2</td>\n",
       "      <td>standard oil co and bp north america\\ninc said...</td>\n",
       "      <td>train</td>\n",
       "      <td>[]</td>\n",
       "    </tr>\n",
       "    <tr>\n",
       "      <th>2</th>\n",
       "      <td>3</td>\n",
       "      <td>texas commerce bancshares inc's texas\\ncommerc...</td>\n",
       "      <td>train</td>\n",
       "      <td>[]</td>\n",
       "    </tr>\n",
       "    <tr>\n",
       "      <th>3</th>\n",
       "      <td>4</td>\n",
       "      <td>bankamerica corp is not under\\npressure to act...</td>\n",
       "      <td>train</td>\n",
       "      <td>[]</td>\n",
       "    </tr>\n",
       "    <tr>\n",
       "      <th>4</th>\n",
       "      <td>5</td>\n",
       "      <td>the u.s. agriculture department\\nreported the ...</td>\n",
       "      <td>train</td>\n",
       "      <td>[grain, wheat, corn, barley, oat, sorghum]</td>\n",
       "    </tr>\n",
       "  </tbody>\n",
       "</table>\n",
       "</div>"
      ],
      "text/plain": [
       "  document_id                                      document_body  \\\n",
       "0           1  showers continued throughout the week in\\nthe ...   \n",
       "1           2  standard oil co and bp north america\\ninc said...   \n",
       "2           3  texas commerce bancshares inc's texas\\ncommerc...   \n",
       "3           4  bankamerica corp is not under\\npressure to act...   \n",
       "4           5  the u.s. agriculture department\\nreported the ...   \n",
       "\n",
       "  train_test_label                                    category  \n",
       "0            train                                     [cocoa]  \n",
       "1            train                                          []  \n",
       "2            train                                          []  \n",
       "3            train                                          []  \n",
       "4            train  [grain, wheat, corn, barley, oat, sorghum]  "
      ]
     },
     "execution_count": 4,
     "metadata": {},
     "output_type": "execute_result"
    }
   ],
   "source": [
    "document_X = {}\n",
    "document_Y = {}\n",
    "\n",
    "document_id=[]\n",
    "document_body=[]\n",
    "document_train_test=[]\n",
    "category=[]\n",
    "document_X=pd.DataFrame()\n",
    "\n",
    "for i in range(sgml_number_of_files):\n",
    "    if i < 10:\n",
    "        seq = '00' + str(i)\n",
    "    else:\n",
    "        seq = '0' + str(i)\n",
    "        \n",
    "    file_name = sgml_file_name_template.replace('NNN', seq)\n",
    "    #print('Reading file: %s' % file_name)\n",
    "    \n",
    "    with codecs.open(data_folder + file_name, 'r', encoding='utf-8',\n",
    "                 errors='ignore') as file:\n",
    "        content = BeautifulSoup(file.read().lower())      \n",
    "        for newsline in content('reuters'):\n",
    "                      \n",
    "            # News-line Id\n",
    "            document_id.append(newsline['newid'])\n",
    "            \n",
    "            # News-line text\n",
    "            document_body.append(unescape(strip_tags(str(newsline('text')[0].body)).replace('reuter\\n&#3;', '')))\n",
    "#            document_body.append(newsline.find(\"title\").text)\n",
    "            document_train_test.append(strip_tags(str(newsline.attrs[\"lewissplit\"]) ))\n",
    "            #for c in newsline.find(\"topics\").findAll('d'):\n",
    "                #category.append(c.text)\n",
    "            category.append([item.text for item in newsline.find(\"topics\").findAll('d')])\n",
    "            \n",
    "        \n",
    "\n",
    "document_X['document_id'] = document_id\n",
    "document_X['document_body'] = document_body\n",
    "document_X['train_test_label'] = document_train_test\n",
    "document_X['category'] = category\n",
    "\n",
    "document_X.head()"
   ]
  },
  {
   "cell_type": "markdown",
   "metadata": {},
   "source": [
    "### Filter null, Train/Test data split"
   ]
  },
  {
   "cell_type": "code",
   "execution_count": 5,
   "metadata": {},
   "outputs": [],
   "source": [
    "train_X=document_X[(document_X['train_test_label']=='train') & (document_X['category'].astype(str)!='[]') & (document_X['document_body'].astype(str)!='None')]['document_body'].values.tolist()\n",
    "test_X=document_X[(document_X['train_test_label']=='test') & (document_X['category'].astype(str)!='[]')& (document_X['document_body'].astype(str)!='None')]['document_body'].values.tolist()\n",
    "\n",
    "train_Y=document_X[(document_X['train_test_label']=='train') & (document_X['category'].astype(str)!='[]')& (document_X['document_body'].astype(str)!='None')]['category'].values.tolist()\n",
    "test_Y=document_X[(document_X['train_test_label']=='test') & (document_X['category'].astype(str)!='[]')& (document_X['document_body'].astype(str)!='None')]['category'].values.tolist()\n"
   ]
  },
  {
   "cell_type": "markdown",
   "metadata": {},
   "source": [
    "### Prepare for tokenization"
   ]
  },
  {
   "cell_type": "code",
   "execution_count": 6,
   "metadata": {},
   "outputs": [],
   "source": [
    "from nltk import word_tokenize\n",
    "from nltk.stem.porter import PorterStemmer\n",
    "from nltk.corpus import stopwords\n",
    "import re\n",
    " \n",
    "cachedStopWords = stopwords.words(\"english\")\n",
    " \n",
    "def tokenize(text):\n",
    "  min_length = 3\n",
    "  words = map(lambda word: word.lower(), word_tokenize(text))\n",
    "  words = [word for word in words if word not in cachedStopWords]\n",
    "  tokens = (list(map(lambda token: PorterStemmer().stem(token),\n",
    "                                   words)))\n",
    "  p = re.compile('[a-zA-Z]+');\n",
    "  filtered_tokens =list(filter (lambda token: p.match(token) and\n",
    "                               len(token) >= min_length,\n",
    "                               tokens))\n",
    "  return filtered_tokens"
   ]
  },
  {
   "cell_type": "markdown",
   "metadata": {},
   "source": [
    "### Multiclass/multilabel targets - Tokenize, Vectorize (Tf-idf) and Model training (SVM) "
   ]
  },
  {
   "cell_type": "code",
   "execution_count": 7,
   "metadata": {},
   "outputs": [
    {
     "name": "stderr",
     "output_type": "stream",
     "text": [
      "/usr/local/lib/python3.7/site-packages/sklearn/preprocessing/_label.py:995: UserWarning: unknown class(es) ['cottonseed', 'f-cattle', 'sfr'] will be ignored\n",
      "  .format(sorted(unknown, key=str)))\n"
     ]
    }
   ],
   "source": [
    "from nltk.corpus import stopwords, reuters\n",
    "from sklearn.feature_extraction.text import TfidfVectorizer\n",
    "from sklearn.preprocessing import MultiLabelBinarizer\n",
    "from sklearn.svm import LinearSVC\n",
    "from sklearn.multiclass import OneVsRestClassifier\n",
    "\n",
    "stop_words = stopwords.words(\"english\")\n",
    " \n",
    "# Tokenisation\n",
    "vectorizer = TfidfVectorizer(stop_words=stop_words,\n",
    "                             tokenizer=tokenize)\n",
    " \n",
    "# Learn and transform train documents\n",
    "vectorised_train_documents = vectorizer.fit_transform(train_X)\n",
    "vectorised_test_documents = vectorizer.transform(test_X)\n",
    " \n",
    "# Transform multilabel labels\n",
    "mlb = MultiLabelBinarizer()\n",
    "\n",
    "train_labels = mlb.fit_transform(train_Y)\n",
    "test_labels = mlb.transform(test_Y)\n",
    "\n",
    "# Classifier\n",
    "classifier = OneVsRestClassifier(LinearSVC(random_state=42))\n",
    "classifier.fit(vectorised_train_documents, train_labels)\n",
    " \n",
    "predictions = classifier.predict(vectorised_test_documents)"
   ]
  },
  {
   "cell_type": "code",
   "execution_count": null,
   "metadata": {},
   "outputs": [],
   "source": []
  },
  {
   "cell_type": "markdown",
   "metadata": {},
   "source": [
    "### Model Evaluation"
   ]
  },
  {
   "cell_type": "code",
   "execution_count": 8,
   "metadata": {
    "scrolled": true
   },
   "outputs": [
    {
     "name": "stdout",
     "output_type": "stream",
     "text": [
      "Micro-average quality numbers\n",
      "Precision: 0.9416, Recall: 0.7838, F1-measure: 0.8555\n",
      "Macro-average quality numbers\n",
      "Precision: 0.4775, Recall: 0.2697, F1-measure: 0.3293\n"
     ]
    },
    {
     "name": "stderr",
     "output_type": "stream",
     "text": [
      "/usr/local/lib/python3.7/site-packages/sklearn/metrics/_classification.py:1221: UndefinedMetricWarning: Precision is ill-defined and being set to 0.0 in labels with no predicted samples. Use `zero_division` parameter to control this behavior.\n",
      "  _warn_prf(average, modifier, msg_start, len(result))\n",
      "/usr/local/lib/python3.7/site-packages/sklearn/metrics/_classification.py:1221: UndefinedMetricWarning: Recall is ill-defined and being set to 0.0 in labels with no true samples. Use `zero_division` parameter to control this behavior.\n",
      "  _warn_prf(average, modifier, msg_start, len(result))\n",
      "/usr/local/lib/python3.7/site-packages/sklearn/metrics/_classification.py:1465: UndefinedMetricWarning: F-score is ill-defined and being set to 0.0 in labels with no true nor predicted samples. Use `zero_division` parameter to control this behavior.\n",
      "  average, \"true nor predicted\", 'F-score is', len(true_sum)\n"
     ]
    }
   ],
   "source": [
    "from sklearn.metrics import f1_score,precision_score,recall_score\n",
    " \n",
    "precision = precision_score(test_labels, predictions,average='micro')\n",
    "recall = recall_score(test_labels, predictions,average='micro')\n",
    "f1 = f1_score(test_labels, predictions, average='micro')\n",
    " \n",
    "print(\"Micro-average quality numbers\")\n",
    "print(\"Precision: {:.4f}, Recall: {:.4f}, F1-measure: {:.4f}\".format(precision, recall, f1))\n",
    " \n",
    "precision = precision_score(test_labels, predictions,\n",
    "                            average='macro')\n",
    "recall = recall_score(test_labels, predictions,\n",
    "                      average='macro')\n",
    "f1 = f1_score(test_labels, predictions, average='macro')\n",
    " \n",
    "print(\"Macro-average quality numbers\")\n",
    "print(\"Precision: {:.4f}, Recall: {:.4f}, F1-measure: {:.4f}\".format(precision, recall, f1))"
   ]
  },
  {
   "cell_type": "code",
   "execution_count": null,
   "metadata": {},
   "outputs": [],
   "source": []
  },
  {
   "cell_type": "code",
   "execution_count": null,
   "metadata": {},
   "outputs": [],
   "source": []
  },
  {
   "cell_type": "code",
   "execution_count": null,
   "metadata": {},
   "outputs": [],
   "source": []
  },
  {
   "cell_type": "code",
   "execution_count": null,
   "metadata": {},
   "outputs": [],
   "source": []
  },
  {
   "cell_type": "code",
   "execution_count": null,
   "metadata": {},
   "outputs": [],
   "source": []
  },
  {
   "cell_type": "code",
   "execution_count": null,
   "metadata": {},
   "outputs": [],
   "source": []
  },
  {
   "cell_type": "code",
   "execution_count": null,
   "metadata": {},
   "outputs": [],
   "source": []
  },
  {
   "cell_type": "code",
   "execution_count": null,
   "metadata": {},
   "outputs": [],
   "source": []
  },
  {
   "cell_type": "code",
   "execution_count": null,
   "metadata": {},
   "outputs": [],
   "source": []
  },
  {
   "cell_type": "code",
   "execution_count": null,
   "metadata": {},
   "outputs": [],
   "source": []
  },
  {
   "cell_type": "code",
   "execution_count": null,
   "metadata": {},
   "outputs": [],
   "source": []
  },
  {
   "cell_type": "code",
   "execution_count": null,
   "metadata": {},
   "outputs": [],
   "source": []
  },
  {
   "cell_type": "code",
   "execution_count": null,
   "metadata": {},
   "outputs": [],
   "source": []
  },
  {
   "cell_type": "markdown",
   "metadata": {},
   "source": [
    "### Please ignore below"
   ]
  },
  {
   "cell_type": "markdown",
   "metadata": {},
   "source": [
    "### Compare test results visually "
   ]
  },
  {
   "cell_type": "code",
   "execution_count": 9,
   "metadata": {},
   "outputs": [
    {
     "name": "stdout",
     "output_type": "stream",
     "text": [
      "                                                   true  \\\n",
      "0                                               [trade]   \n",
      "1                                               [grain]   \n",
      "2                                      [crude, nat-gas]   \n",
      "3        [trade, grain, rice, corn, sugar, tin, rubber]   \n",
      "4                                   [veg-oil, palm-oil]   \n",
      "5                                                [ship]   \n",
      "6           [veg-oil, palm-oil, lumber, coffee, rubber]   \n",
      "7                                        [grain, wheat]   \n",
      "8                                                [gold]   \n",
      "9                                                 [acq]   \n",
      "10                                                [tin]   \n",
      "11                                 [money-fx, interest]   \n",
      "12                                        [acq, copper]   \n",
      "13                                                [ipi]   \n",
      "14    [trade, rice, livestock, carcass, grain, corn,...   \n",
      "15                                               [earn]   \n",
      "16                                               [earn]   \n",
      "17                                 [money-fx, interest]   \n",
      "18                                         [trade, bop]   \n",
      "19                                          [gas, lead]   \n",
      "20                                                [acq]   \n",
      "21                                               [jobs]   \n",
      "22                                               [earn]   \n",
      "23                                               [earn]   \n",
      "24                                               [earn]   \n",
      "25                                               [earn]   \n",
      "26                                                [tin]   \n",
      "27                                              [trade]   \n",
      "28                                               [zinc]   \n",
      "29                                              [sugar]   \n",
      "...                                                 ...   \n",
      "2715                                             [ship]   \n",
      "2716                                              [bop]   \n",
      "2717                                         [money-fx]   \n",
      "2718                                             [ship]   \n",
      "2719                                   [gnp, jobs, bop]   \n",
      "2720                                       [alum, ship]   \n",
      "2721                                    [grain, cotton]   \n",
      "2722                                              [cpi]   \n",
      "2723                                   [money-fx, rand]   \n",
      "2724                                            [sugar]   \n",
      "2725                                              [acq]   \n",
      "2726                                         [money-fx]   \n",
      "2727                                            [crude]   \n",
      "2728                          [money-fx, dlr, yen, dmk]   \n",
      "2729                                              [acq]   \n",
      "2730                                             [earn]   \n",
      "2731                                             [earn]   \n",
      "2732                                         [money-fx]   \n",
      "2733                                           [rubber]   \n",
      "2734                                  [money-fx, nzdlr]   \n",
      "2735                                            [trade]   \n",
      "2736                                            [sugar]   \n",
      "2737                                           [coffee]   \n",
      "2738                                            [crude]   \n",
      "2739                                      [grain, rice]   \n",
      "2740                                              [acq]   \n",
      "2741                               [money-fx, dlr, yen]   \n",
      "2742                                             [ship]   \n",
      "2743                                              [ipi]   \n",
      "2744                                             [gold]   \n",
      "\n",
      "                         pred  \n",
      "0                    (trade,)  \n",
      "1                          ()  \n",
      "2                    (crude,)  \n",
      "3                    (trade,)  \n",
      "4         (palm-oil, veg-oil)  \n",
      "5                     (ship,)  \n",
      "6            (coffee, rubber)  \n",
      "7              (grain, wheat)  \n",
      "8                     (gold,)  \n",
      "9                          ()  \n",
      "10                         ()  \n",
      "11       (interest, money-fx)  \n",
      "12                         ()  \n",
      "13                     (ipi,)  \n",
      "14    (carcass, grain, trade)  \n",
      "15                    (earn,)  \n",
      "16                    (earn,)  \n",
      "17                (money-fx,)  \n",
      "18               (bop, trade)  \n",
      "19                         ()  \n",
      "20                (acq, gold)  \n",
      "21                         ()  \n",
      "22                    (earn,)  \n",
      "23                    (earn,)  \n",
      "24                    (earn,)  \n",
      "25                    (earn,)  \n",
      "26                     (tin,)  \n",
      "27                   (trade,)  \n",
      "28                    (zinc,)  \n",
      "29                   (sugar,)  \n",
      "...                       ...  \n",
      "2715            (crude, ship)  \n",
      "2716                       ()  \n",
      "2717                       ()  \n",
      "2718                  (ship,)  \n",
      "2719                   (gnp,)  \n",
      "2720                  (ship,)  \n",
      "2721                 (grain,)  \n",
      "2722                   (cpi,)  \n",
      "2723                       ()  \n",
      "2724                       ()  \n",
      "2725                   (acq,)  \n",
      "2726                       ()  \n",
      "2727                 (crude,)  \n",
      "2728              (money-fx,)  \n",
      "2729                   (acq,)  \n",
      "2730                  (earn,)  \n",
      "2731                  (earn,)  \n",
      "2732              (money-fx,)  \n",
      "2733                (rubber,)  \n",
      "2734                       ()  \n",
      "2735                 (trade,)  \n",
      "2736                       ()  \n",
      "2737                (coffee,)  \n",
      "2738                 (crude,)  \n",
      "2739            (grain, rice)  \n",
      "2740                   (acq,)  \n",
      "2741          (dlr, money-fx)  \n",
      "2742                  (ship,)  \n",
      "2743                       ()  \n",
      "2744                  (gold,)  \n",
      "\n",
      "[2745 rows x 2 columns]\n"
     ]
    }
   ],
   "source": [
    "pred_inverse=mlb.inverse_transform(predictions)\n",
    "compare=pd.DataFrame()\n",
    "true=[] \n",
    "pred=[]\n",
    "for i in range(len(predictions)):\n",
    "    true.append(test_Y[i])\n",
    "    pred.append(pred_inverse[i])\n",
    "\n",
    "compare['true']=true\n",
    "compare['pred']=pred\n",
    "print(compare)"
   ]
  },
  {
   "cell_type": "code",
   "execution_count": 22,
   "metadata": {},
   "outputs": [
    {
     "name": "stdout",
     "output_type": "stream",
     "text": [
      "\"Example with pre-processor1:\"\n",
      "the u.s. agriculture department\n",
      "reported the farmer-owned reserve national five-day average\n",
      "price through february 25 as follows (dlrs/bu-sorghum cwt) -\n",
      "         natl   loan           release   call\n",
      "         avge   rate-x  level    price  price\n",
      " wheat   2.55   2.40       iv     4.65     --\n",
      "                            v     4.65     --\n",
      "                           vi     4.45     --\n",
      " corn    1.35   1.92       iv     3.15   3.15\n",
      "                            v     3.25     --\n",
      " x - 1986 rates.\n",
      "\n",
      "          natl   loan          release   call\n",
      "          avge   rate-x  level   price  price\n",
      " oats     1.24   0.99        v    1.65    -- \n",
      " barley   n.a.   1.56       iv    2.55   2.55\n",
      "                             v    2.65    -- \n",
      " sorghum  2.34   3.25-y     iv    5.36   5.36\n",
      "                             v    5.54    -- \n",
      "    reserves i, ii and iii have matured. level iv reflects\n",
      "grain entered after oct 6, 1981 for feedgrain and after july\n",
      "23, 1981 for wheat. level v wheat/barley after 5/14/82,\n",
      "corn/sorghum after 7/1/82. level vi covers wheat entered after\n",
      "january 19, 1984.  x-1986 rates. y-dlrs per cwt (100 lbs).\n",
      "n.a.-not available.\n",
      " reuter\n",
      "\u0003\n",
      "\n",
      "\n",
      "\n",
      "\n",
      "\"Example with pre-processor2:\"\n",
      " u  agriculture department reported  farmer owned reserve national five day average price  february    follows dlrs bu sorghum cwt   natl loan release call avge rate x level price price wheat         iv       v       vi       corn         iv         v       x     rates natl loan release call avge rate x level price price oats         v       barley n      iv         v       sorghum         iv         v       reserves  ii  iii  matured level iv reflects grain entered  oct      feedgrain   july      wheat level v wheat barley        corn sorghum        level vi covers wheat entered  january     x  rates  dlrs per cwt   lbs n    available reuter\n"
     ]
    }
   ],
   "source": [
    "print('\"Example with pre-processor1:\"')\n",
    "print(train_X[1])\n",
    "\n",
    "print('\\n')\n",
    "print('\\n')\n",
    "\n",
    "print('\"Example with pre-processor2:\"')\n",
    "print(' u  agriculture department reported  farmer owned reserve national five day average price  february    follows dlrs bu sorghum cwt   natl loan release call avge rate x level price price wheat         iv       v       vi       corn         iv         v       x     rates natl loan release call avge rate x level price price oats         v       barley n      iv         v       sorghum         iv         v       reserves  ii  iii  matured level iv reflects grain entered  oct      feedgrain   july      wheat level v wheat barley        corn sorghum        level vi covers wheat entered  january     x  rates  dlrs per cwt   lbs n    available reuter')"
   ]
  },
  {
   "cell_type": "code",
   "execution_count": 23,
   "metadata": {},
   "outputs": [
    {
     "name": "stdout",
     "output_type": "stream",
     "text": [
      "\"Example with pre-processor1:\"\n",
      "showers continued throughout the week in\n",
      "the bahia cocoa zone, alleviating the drought since early\n",
      "january and improving prospects for the coming temporao,\n",
      "although normal humidity levels have not been restored,\n",
      "comissaria smith said in its weekly review.\n",
      "    the dry period means the temporao will be late this year.\n",
      "    arrivals for the week ended february 22 were 155,221 bags\n",
      "of 60 kilos making a cumulative total for the season of 5.93\n",
      "mln against 5.81 at the same stage last year. again it seems\n",
      "that cocoa delivered earlier on consignment was included in the\n",
      "arrivals figures.\n",
      "    comissaria smith said there is still some doubt as to how\n",
      "much old crop cocoa is still available as harvesting has\n",
      "practically come to an end. with total bahia crop estimates\n",
      "around 6.4 mln bags and sales standing at almost 6.2 mln there\n",
      "are a few hundred thousand bags still in the hands of farmers,\n",
      "middlemen, exporters and processors.\n",
      "    there are doubts as to how much of this cocoa would be fit\n",
      "for export as shippers are now experiencing dificulties in\n",
      "obtaining +bahia superior+ certificates.\n",
      "    in view of the lower quality over recent weeks farmers have\n",
      "sold a good part of their cocoa held on consignment.\n",
      "    comissaria smith said spot bean prices rose to 340 to 350\n",
      "cruzados per arroba of 15 kilos.\n",
      "    bean shippers were reluctant to offer nearby shipment and\n",
      "only limited sales were booked for march shipment at 1,750 to\n",
      "1,780 dlrs per tonne to ports to be named.\n",
      "    new crop sales were also light and all to open ports with\n",
      "june/july going at 1,850 and 1,880 dlrs and at 35 and 45 dlrs\n",
      "under new york july, aug/sept at 1,870, 1,875 and 1,880 dlrs\n",
      "per tonne fob.\n",
      "    routine sales of butter were made. march/april sold at\n",
      "4,340, 4,345 and 4,350 dlrs.\n",
      "    april/may butter went at 2.27 times new york may, june/july\n",
      "at 4,400 and 4,415 dlrs, aug/sept at 4,351 to 4,450 dlrs and at\n",
      "2.27 and 2.28 times new york sept and oct/dec at 4,480 dlrs and\n",
      "2.27 times new york dec, comissaria smith said.\n",
      "    destinations were the u.s., covertible currency areas,\n",
      "uruguay and open ports.\n",
      "    cake sales were registered at 785 to 995 dlrs for\n",
      "march/april, 785 dlrs for may, 753 dlrs for aug and 0.39 times\n",
      "new york dec for oct/dec.\n",
      "    buyers were the u.s., argentina, uruguay and convertible\n",
      "currency areas.\n",
      "    liquor sales were limited with march/april selling at 2,325\n",
      "and 2,380 dlrs, june/july at 2,375 dlrs and at 1.25 times new\n",
      "york july, aug/sept at 2,400 dlrs and at 1.25 times new york\n",
      "sept and oct/dec at 1.25 times new york dec, comissaria smith\n",
      "said.\n",
      "    total bahia sales are currently estimated at 6.13 mln bags\n",
      "against the 1986/87 crop and 1.06 mln bags against the 1987/88\n",
      "crop.\n",
      "    final figures for the period to february 28 are expected to\n",
      "be published by the brazilian cocoa trade commission after\n",
      "carnival which ends midday on february 27.\n",
      " reuter\n",
      "\u0003\n",
      "\n",
      "\n",
      "\n",
      "\n",
      "\"Example with pre-processor2:\"\n",
      "showers continued throughout  week   bahia cocoa zone alleviating  drought since early january  improving prospects   coming temporao although normal humidity levels    restored comissaria smith said   weekly review  dry period means  temporao   late  year arrivals   week ended february        bags    kilos making  cumulative total   season      mln         stage last year   seems  cocoa delivered earlier  consignment  included   arrivals figures comissaria smith said   still  doubt    much old crop cocoa  still available  harvesting  practically come   end  total bahia crop estimates around     mln bags  sales standing  almost     mln     hundred thousand bags still   hands  farmers middlemen exporters  processors   doubts    much   cocoa would  fit  export  shippers   experiencing dificulties  obtaining  bahia superior  certificates  view   lower quality  recent weeks farmers  sold  good part   cocoa held  consignment comissaria smith said spot bean prices rose       cruzados per arroba    kilos bean shippers  reluctant  offer nearby shipment   limited sales  booked  march shipment           dlrs per tonne  ports   named new crop sales  also light    open ports  june july going           dlrs        dlrs  new york july aug sept               dlrs per tonne fob routine sales  butter  made march april sold               dlrs april may butter went      times new york may june july           dlrs aug sept           dlrs            times new york sept  oct dec      dlrs      times new york dec comissaria smith said destinations   u  covertible currency areas uruguay  open ports cake sales  registered       dlrs  march april   dlrs  may   dlrs  aug      times new york dec  oct dec buyers   u  argentina uruguay  convertible currency areas liquor sales  limited  march april selling           dlrs june july      dlrs       times new york july aug sept      dlrs       times new york sept  oct dec      times new york dec comissaria smith said total bahia sales  currently estimated      mln bags       crop      mln bags       crop final figures   period  february    expected   published   brazilian cocoa trade commission  carnival  ends midday  february   reuter\n"
     ]
    }
   ],
   "source": [
    "print('\"Example with pre-processor1:\"')\n",
    "print(train_X[0])\n",
    "\n",
    "print('\\n')\n",
    "print('\\n')\n",
    "\n",
    "print('\"Example with pre-processor2:\"')\n",
    "print('showers continued throughout  week   bahia cocoa zone alleviating  drought since early january  improving prospects   coming temporao although normal humidity levels    restored comissaria smith said   weekly review  dry period means  temporao   late  year arrivals   week ended february        bags    kilos making  cumulative total   season      mln         stage last year   seems  cocoa delivered earlier  consignment  included   arrivals figures comissaria smith said   still  doubt    much old crop cocoa  still available  harvesting  practically come   end  total bahia crop estimates around     mln bags  sales standing  almost     mln     hundred thousand bags still   hands  farmers middlemen exporters  processors   doubts    much   cocoa would  fit  export  shippers   experiencing dificulties  obtaining  bahia superior  certificates  view   lower quality  recent weeks farmers  sold  good part   cocoa held  consignment comissaria smith said spot bean prices rose       cruzados per arroba    kilos bean shippers  reluctant  offer nearby shipment   limited sales  booked  march shipment           dlrs per tonne  ports   named new crop sales  also light    open ports  june july going           dlrs        dlrs  new york july aug sept               dlrs per tonne fob routine sales  butter  made march april sold               dlrs april may butter went      times new york may june july           dlrs aug sept           dlrs            times new york sept  oct dec      dlrs      times new york dec comissaria smith said destinations   u  covertible currency areas uruguay  open ports cake sales  registered       dlrs  march april   dlrs  may   dlrs  aug      times new york dec  oct dec buyers   u  argentina uruguay  convertible currency areas liquor sales  limited  march april selling           dlrs june july      dlrs       times new york july aug sept      dlrs       times new york sept  oct dec      times new york dec comissaria smith said total bahia sales  currently estimated      mln bags       crop      mln bags       crop final figures   period  february    expected   published   brazilian cocoa trade commission  carnival  ends midday  february   reuter')"
   ]
  },
  {
   "cell_type": "code",
   "execution_count": 30,
   "metadata": {},
   "outputs": [
    {
     "data": {
      "text/plain": [
       "[\"the american stock exchange said it has\\nintroduced options with expirations of up to three years on the\\ninstitutional index.\\n    with the ticker symbol <xii>, the index is a guage of the\\ncore equity holdings of the nation's largest institutions, the\\nexchange explained.\\n    the new listings represent the first long-term options to\\nbe traded by the amex, it added.\\n    it said the long-term institutional index options began\\ntrading monday with expirations of december 1988 <xiv> and\\ndecember 1989 <xix>.\\n   \\n    the amex said a third long-term option with an expiration\\nof december 1990 will begin trading following the december 1987\\nexpiration.\\n    it said strike prices on the long-term options have been\\nset at 50 point intervals with initial strikes of 250, 300 and\\n350. to avoid conflicting strike price codes, the 350 stike\\nprices will carry the ticker symbols <xvv> for the option\\nexpiring in december 1988 and <xvx> for the option expiring in\\ndecember 1989.\\n reuter\\n\\x03\"]"
      ]
     },
     "execution_count": 30,
     "metadata": {},
     "output_type": "execute_result"
    }
   ],
   "source": [
    "document_body[-1:]"
   ]
  },
  {
   "cell_type": "code",
   "execution_count": 28,
   "metadata": {},
   "outputs": [
    {
     "data": {
      "text/plain": [
       "<body>the american stock exchange said it has\n",
       "introduced options with expirations of up to three years on the\n",
       "institutional index.\n",
       "    with the ticker symbol &lt;xii&gt;, the index is a guage of the\n",
       "core equity holdings of the nation's largest institutions, the\n",
       "exchange explained.\n",
       "    the new listings represent the first long-term options to\n",
       "be traded by the amex, it added.\n",
       "    it said the long-term institutional index options began\n",
       "trading monday with expirations of december 1988 &lt;xiv&gt; and\n",
       "december 1989 &lt;xix&gt;.\n",
       "   \n",
       "    the amex said a third long-term option with an expiration\n",
       "of december 1990 will begin trading following the december 1987\n",
       "expiration.\n",
       "    it said strike prices on the long-term options have been\n",
       "set at 50 point intervals with initial strikes of 250, 300 and\n",
       "350. to avoid conflicting strike price codes, the 350 stike\n",
       "prices will carry the ticker symbols &lt;xvv&gt; for the option\n",
       "expiring in december 1988 and &lt;xvx&gt; for the option expiring in\n",
       "december 1989.\n",
       " reuter\n",
       "\u0003</body>"
      ]
     },
     "execution_count": 28,
     "metadata": {},
     "output_type": "execute_result"
    }
   ],
   "source": [
    "newsline('text')[0].body"
   ]
  },
  {
   "cell_type": "code",
   "execution_count": 31,
   "metadata": {},
   "outputs": [
    {
     "data": {
      "text/plain": [
       "[\"australian trade unions said they have\\nlaunched week-long strikes and other industrial action in new\\nsouth wales (nsw) to protest against new laws that would reduce\\ninjury compensation payments.\\n    union sources said talks with the state government broke\\ndown last night, but the two sides are scheduled to meet later\\ntoday in an attempt to find a compromise.\\n    rail freight and shipping cargo movements in the country's\\nmost populous state were the first to be affected, and union\\nofficials said almost every business sector will be hit unless\\nthere is a quick settlement.\\n    the state government recently introduced a new workers'\\ncompensation act which would cut the cash benefits to injured\\nworkers by up to a third. the act is now awaiting parliamentary\\nratification.\\n    nsw state premier barrie unsworth has said workers'\\ncompensation has risen steeply in recent years and the proposed\\ncuts would save hundreds of mlns of dollars a year.\\n    union officials said industrial action could spread to\\nother states as the federal government also plans to make sharp\\ncuts in workers' compensation.\\n reuter\\n\\x03\"]"
      ]
     },
     "execution_count": 31,
     "metadata": {},
     "output_type": "execute_result"
    }
   ],
   "source": [
    "train_X[-1:]"
   ]
  },
  {
   "cell_type": "code",
   "execution_count": 32,
   "metadata": {},
   "outputs": [
    {
     "data": {
      "text/plain": [
       "7068"
      ]
     },
     "execution_count": 32,
     "metadata": {},
     "output_type": "execute_result"
    }
   ],
   "source": [
    "len(train_X)"
   ]
  },
  {
   "cell_type": "code",
   "execution_count": 33,
   "metadata": {},
   "outputs": [
    {
     "data": {
      "text/plain": [
       "2745"
      ]
     },
     "execution_count": 33,
     "metadata": {},
     "output_type": "execute_result"
    }
   ],
   "source": [
    "len(test_X)"
   ]
  },
  {
   "cell_type": "code",
   "execution_count": null,
   "metadata": {},
   "outputs": [],
   "source": [
    "\n"
   ]
  },
  {
   "cell_type": "code",
   "execution_count": null,
   "metadata": {},
   "outputs": [],
   "source": []
  }
 ],
 "metadata": {
  "kernelspec": {
   "display_name": "Python 3",
   "language": "python",
   "name": "python3"
  },
  "language_info": {
   "codemirror_mode": {
    "name": "ipython",
    "version": 3
   },
   "file_extension": ".py",
   "mimetype": "text/x-python",
   "name": "python",
   "nbconvert_exporter": "python",
   "pygments_lexer": "ipython3",
   "version": "3.7.0"
  }
 },
 "nbformat": 4,
 "nbformat_minor": 2
}
